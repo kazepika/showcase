{
 "cells": [
  {
   "cell_type": "code",
   "execution_count": 497,
   "metadata": {},
   "outputs": [],
   "source": [
    "import pandas as pd \n",
    "import numpy as np\n",
    "import matplotlib.pyplot as plt\n",
    "import matplotlib.dates as mdates\n",
    "import win32com.client\n",
    "import re\n",
    "\n",
    "# product labeling index from classification.py\n",
    "from classification import product_classification\n",
    "from location import location_classification"
   ]
  },
  {
   "cell_type": "markdown",
   "metadata": {},
   "source": [
    "## Personal variables"
   ]
  },
  {
   "cell_type": "code",
   "execution_count": null,
   "metadata": {},
   "outputs": [],
   "source": [
    "subfolder_name = \"testing_project2\" # folder name of Outlook\n",
    "nature_selected = \"Stock 1\" # The item selected for the visualization\n",
    "location_selected = \"TFDL\" # The location selected for the item visualization"
   ]
  },
  {
   "cell_type": "markdown",
   "metadata": {},
   "source": [
    "## Connect to outlook"
   ]
  },
  {
   "cell_type": "code",
   "execution_count": 499,
   "metadata": {},
   "outputs": [
    {
     "name": "stdout",
     "output_type": "stream",
     "text": [
      "Inbox: Inbox\n",
      "Subfolder Index 0: testing_project2\n",
      "Subfolder Index 1: Stars\n"
     ]
    }
   ],
   "source": [
    "# Connect to Outlook\n",
    "outlook = win32com.client.Dispatch(\"Outlook.Application\").GetNamespace(\"MAPI\")\n",
    "\n",
    "# Get the default Inbox folder (index 6 is usually the inbox)\n",
    "inbox = outlook.GetDefaultFolder(6)\n",
    "\n",
    "# Print the inbox name and loop through its subfolders\n",
    "print(f\"Inbox: {inbox.Name}\")\n",
    "for i, folder in enumerate(inbox.Folders):\n",
    "    print(f\"Subfolder Index {i}: {folder.Name}\")"
   ]
  },
  {
   "cell_type": "markdown",
   "metadata": {},
   "source": [
    "### Dataframe Skeleton"
   ]
  },
  {
   "cell_type": "code",
   "execution_count": 500,
   "metadata": {},
   "outputs": [],
   "source": [
    "# Contruct the skeleton\n",
    "tempdatastruc = {\n",
    "    \"Order Number\" : [],\n",
    "    \"Date\": [],\n",
    "    \"Location\": [],\n",
    "    \"Product Description\" : [],\n",
    "    \"QTY\": []\n",
    "}"
   ]
  },
  {
   "cell_type": "markdown",
   "metadata": {},
   "source": [
    "## Extract info from email inbox subfolder"
   ]
  },
  {
   "cell_type": "code",
   "execution_count": 501,
   "metadata": {},
   "outputs": [
    {
     "name": "stdout",
     "output_type": "stream",
     "text": [
      "Accessing subfolder: testing_project2\n"
     ]
    }
   ],
   "source": [
    "# Access the subfolder at index 0 or (in this case, \"testing_project2\")\n",
    "subfolder = inbox.Folders[subfolder_name] \n",
    "# Alternative way by using subfolder at index 0: \n",
    "# subfolder = inbox.Folders[0]\n",
    "\n",
    "print(f\"Accessing subfolder: {subfolder.Name}\")\n",
    "\n",
    "# Get the messages from the subfolder\n",
    "messages = subfolder.Items\n",
    "for message in messages:\n",
    "    # Import the Email Body\n",
    "    email_body = message.Body\n",
    "\n",
    "    # Split the email body into lines\n",
    "    lines = email_body.strip().split(\"\\n\")\n",
    "    \n",
    "    # Initialize variables to store items and summary\n",
    "    items = []\n",
    "    summary = {}\n",
    "\n",
    "    processing_items = False\n",
    "    \n",
    "    # Loop through each line in the email\n",
    "    for line in lines:\n",
    "        line = line.strip()  # Remove leading/trailing whitespaces\n",
    "\n",
    "        # If we encounter the header line, start processing items from the next line\n",
    "        if \"SKU\" in line and \"Product\" in line and \"MANUFACTURER NO\" in line:\n",
    "            processing_items = True\n",
    "            continue  # Skip the header line itself\n",
    "        \n",
    "        # If we reach the Subtotal, stop processing items\n",
    "        if \"Subtotal\" in line:\n",
    "            processing_items = False\n",
    "        \n",
    "        # Processing item lines\n",
    "        if processing_items:\n",
    "            entry_list = line.split(\"\\t\")\n",
    "            data_dict = {\n",
    "            'SKU': entry_list[0],\n",
    "            'Product Description': entry_list[1],\n",
    "            'Manufacturer number': entry_list[2],\n",
    "            'CPN': entry_list[3],\n",
    "            'QTY': entry_list[4],\n",
    "            'UOM': entry_list[5],\n",
    "            'Price': entry_list[6],\n",
    "            'Total': entry_list[7]  \n",
    "            }\n",
    "            items.append(data_dict)\n",
    "\n",
    "        else:\n",
    "            # For summary lines, extract key-value pairs\n",
    "            summary_data = re.split(r'\\s{2,}', line)\n",
    "            if len(summary_data) == 2:\n",
    "                summary[summary_data[0].strip().replace(\":\", \"\")] = summary_data[1].strip()\n",
    "    \n",
    "    \n",
    "    # For each product, enter into the df skeleton (Please visit v0.2 for more details)\n",
    "    for item in items:\n",
    "        tempdatastruc[\"Order Number\"].append(summary[\"Order Number\"])\n",
    "        tempdatastruc[\"Date\"].append(summary[\"Requested Delivery Date\"])\n",
    "        tempdatastruc[\"Location\"].append(summary[\"Location\"])\n",
    "        tempdatastruc[\"Product Description\"].append(item[\"Product Description\"].strip())\n",
    "        tempdatastruc[\"QTY\"].append(item[\"QTY\"])"
   ]
  },
  {
   "cell_type": "markdown",
   "metadata": {},
   "source": [
    "# Construct DataFrame"
   ]
  },
  {
   "cell_type": "code",
   "execution_count": 502,
   "metadata": {},
   "outputs": [],
   "source": [
    "df = pd.DataFrame(tempdatastruc)"
   ]
  },
  {
   "cell_type": "markdown",
   "metadata": {},
   "source": [
    "## Extract Location Code"
   ]
  },
  {
   "cell_type": "code",
   "execution_count": 503,
   "metadata": {},
   "outputs": [],
   "source": [
    "# Extract Location Code from the Location\n",
    "df['Location Code'] = df['Location'].str.extract(r'\\(([^)]+)\\)')\n",
    "\n",
    "# Move the Location Code next to Location column\n",
    "cols = list(df.columns)\n",
    "loc_index = cols.index('Location')\n",
    "cols.insert(loc_index + 1, cols.pop(cols.index('Location Code')))\n",
    "df = df[cols]"
   ]
  },
  {
   "cell_type": "markdown",
   "metadata": {},
   "source": [
    "## Labeling the Product and Location"
   ]
  },
  {
   "cell_type": "code",
   "execution_count": 504,
   "metadata": {},
   "outputs": [],
   "source": [
    "# Product nature\n",
    "df.loc[:, 'Product Nature'] = df['Product Description'].map(product_classification)\n",
    "df.loc[:, 'Product Nature'] = df['Product Nature'].fillna('None')\n",
    "\n",
    "# Move the Product Nature next to Product Description\n",
    "cols = list(df.columns)\n",
    "loc_index = cols.index('Product Description')\n",
    "cols.insert(loc_index + 1, cols.pop(cols.index('Product Nature')))\n",
    "df = df[cols]"
   ]
  },
  {
   "cell_type": "code",
   "execution_count": 505,
   "metadata": {},
   "outputs": [],
   "source": [
    "# Product nature\n",
    "df.loc[:, 'Location Label'] = df['Location Code'].map(location_classification)\n",
    "df.loc[:, 'Location Label'] = df['Location Label'].fillna('None')\n",
    "\n",
    "# Move the Location Label next to Location Code\n",
    "cols = list(df.columns)\n",
    "loc_index = cols.index('Location Code')\n",
    "cols.insert(loc_index + 1, cols.pop(cols.index('Location Label')))\n",
    "df = df[cols]"
   ]
  },
  {
   "cell_type": "markdown",
   "metadata": {},
   "source": [
    "### Set QTY to numeric"
   ]
  },
  {
   "cell_type": "code",
   "execution_count": 506,
   "metadata": {},
   "outputs": [],
   "source": [
    "df['QTY'] = pd.to_numeric(df['QTY'])"
   ]
  },
  {
   "cell_type": "markdown",
   "metadata": {},
   "source": [
    "### Extra: Stat of None Label vs other (Testing the % of labeling)"
   ]
  },
  {
   "cell_type": "code",
   "execution_count": 508,
   "metadata": {},
   "outputs": [
    {
     "name": "stdout",
     "output_type": "stream",
     "text": [
      "Nature Labeling completion rate: 21.153846153846157 %\n",
      "Location Labeling completion rate: 14.423076923076927 %\n"
     ]
    }
   ],
   "source": [
    "none_count = (df['Product Nature'] == 'None').sum()\n",
    "label_completion_rate_Nature = (1 - none_count / len(df['Product Nature'])) * 100\n",
    "none_count = (df['Location Label'] == 'None').sum()\n",
    "label_completion_rate_Location = (1 - none_count / len(df['Product Nature'])) * 100\n",
    "print(f\"Nature Labeling completion rate: {label_completion_rate_Nature} %\")\n",
    "print(f\"Location Labeling completion rate: {label_completion_rate_Location} %\")"
   ]
  },
  {
   "cell_type": "markdown",
   "metadata": {},
   "source": [
    "# Grouping the data for plotting"
   ]
  },
  {
   "cell_type": "markdown",
   "metadata": {},
   "source": [
    "## Separate the data in Year, Month and Date"
   ]
  },
  {
   "cell_type": "code",
   "execution_count": null,
   "metadata": {},
   "outputs": [],
   "source": [
    "df['Date'] = pd.to_datetime(df['Date'])\n",
    "\n",
    "df['Year'] = df['Date'].dt.year\n",
    "df['Month'] = df['Date'].dt.month\n",
    "df['Day'] = df['Date'].dt.day\n"
   ]
  },
  {
   "cell_type": "markdown",
   "metadata": {},
   "source": [
    "## Filter and grouping the things (without location limit)"
   ]
  },
  {
   "cell_type": "code",
   "execution_count": null,
   "metadata": {},
   "outputs": [],
   "source": [
    "filtered_df = df[df[\"Product Nature\"] == nature_selected]\n",
    "# df2 = filtered_df[[\"Location Label\", \"Year\", \"Month\",\"Day\", \"Product Nature\", \"QTY\", \"Date\"]]\n",
    "df2 = filtered_df[[\"Year\", \"Month\",\"Day\", \"Product Nature\", \"QTY\", \"Date\"]]\n",
    "df2"
   ]
  },
  {
   "cell_type": "code",
   "execution_count": null,
   "metadata": {},
   "outputs": [],
   "source": [
    "df2 = filtered_df[[\"Year\", \"Month\", \"QTY\", \"Date\"]]\n",
    "df2"
   ]
  },
  {
   "cell_type": "code",
   "execution_count": 512,
   "metadata": {},
   "outputs": [
    {
     "data": {
      "text/html": [
       "<div>\n",
       "<style scoped>\n",
       "    .dataframe tbody tr th:only-of-type {\n",
       "        vertical-align: middle;\n",
       "    }\n",
       "\n",
       "    .dataframe tbody tr th {\n",
       "        vertical-align: top;\n",
       "    }\n",
       "\n",
       "    .dataframe thead th {\n",
       "        text-align: right;\n",
       "    }\n",
       "</style>\n",
       "<table border=\"1\" class=\"dataframe\">\n",
       "  <thead>\n",
       "    <tr style=\"text-align: right;\">\n",
       "      <th></th>\n",
       "      <th>Year</th>\n",
       "      <th>Month</th>\n",
       "      <th>QTY</th>\n",
       "    </tr>\n",
       "  </thead>\n",
       "  <tbody>\n",
       "    <tr>\n",
       "      <th>0</th>\n",
       "      <td>2023</td>\n",
       "      <td>12</td>\n",
       "      <td>40</td>\n",
       "    </tr>\n",
       "    <tr>\n",
       "      <th>1</th>\n",
       "      <td>2024</td>\n",
       "      <td>1</td>\n",
       "      <td>18</td>\n",
       "    </tr>\n",
       "    <tr>\n",
       "      <th>2</th>\n",
       "      <td>2024</td>\n",
       "      <td>2</td>\n",
       "      <td>40</td>\n",
       "    </tr>\n",
       "    <tr>\n",
       "      <th>3</th>\n",
       "      <td>2024</td>\n",
       "      <td>4</td>\n",
       "      <td>60</td>\n",
       "    </tr>\n",
       "    <tr>\n",
       "      <th>4</th>\n",
       "      <td>2024</td>\n",
       "      <td>9</td>\n",
       "      <td>30</td>\n",
       "    </tr>\n",
       "    <tr>\n",
       "      <th>5</th>\n",
       "      <td>2024</td>\n",
       "      <td>10</td>\n",
       "      <td>66</td>\n",
       "    </tr>\n",
       "  </tbody>\n",
       "</table>\n",
       "</div>"
      ],
      "text/plain": [
       "   Year  Month  QTY\n",
       "0  2023     12   40\n",
       "1  2024      1   18\n",
       "2  2024      2   40\n",
       "3  2024      4   60\n",
       "4  2024      9   30\n",
       "5  2024     10   66"
      ]
     },
     "execution_count": 512,
     "metadata": {},
     "output_type": "execute_result"
    }
   ],
   "source": [
    "# Group the data by year, Make sure the table looks like this at the end (Year, Month, QTY)\n",
    "grouped_data = df2.groupby(['Year', 'Month'], as_index=False).agg({'QTY': 'sum'})\n",
    "grouped_data"
   ]
  },
  {
   "cell_type": "markdown",
   "metadata": {},
   "source": [
    "## Trying to make a graph"
   ]
  },
  {
   "cell_type": "code",
   "execution_count": 513,
   "metadata": {},
   "outputs": [
    {
     "data": {
      "image/png": "[encoded data removed]",
      "text/plain": [
       "<Figure size 1000x600 with 1 Axes>"
      ]
     },
     "metadata": {},
     "output_type": "display_data"
    }
   ],
   "source": [
    "# Create the plot\n",
    "plt.figure(figsize=(10, 6))\n",
    "\n",
    "# Define a color map for years\n",
    "colors = {2022: 'blue', 2023: 'orange', 2024: 'green'}\n",
    "\n",
    "# Loop through each year in the grouped data and plot a line\n",
    "for year, group in grouped_data.groupby(\"Year\"):\n",
    "    plt.plot(group['Month'], group['QTY'], marker=\"o\", color=colors[year], label=f'Year {year}')\n",
    "\n",
    "# Add labels and title\n",
    "plt.xlabel('Month')\n",
    "plt.ylabel('Quantity')\n",
    "plt.title('Monthly Data for Different Years')\n",
    "plt.xticks(ticks=np.arange(1, 13), labels=['Jan', 'Feb', 'Mar', 'Apr', 'May', 'Jun', 'Jul', 'Aug', 'Sep', 'Oct', 'Nov', 'Dec'])\n",
    "\n",
    "# Add a legend\n",
    "plt.legend(title='Year')\n",
    "\n",
    "\n",
    "# Table\n",
    "grouped_data\n",
    "# Show the plot\n",
    "plt.show()\n"
   ]
  },
  {
   "cell_type": "code",
   "execution_count": 514,
   "metadata": {},
   "outputs": [
    {
     "name": "stdout",
     "output_type": "stream",
     "text": [
      "Nature Labeling completion rate: 21.153846153846157 %\n",
      "Location Labeling completion rate: 14.423076923076927 %\n"
     ]
    }
   ],
   "source": [
    "print(f\"Nature Labeling completion rate: {label_completion_rate_Nature} %\")\n",
    "print(f\"Location Labeling completion rate: {label_completion_rate_Location} %\")"
   ]
  }
 ],
 "metadata": {
  "kernelspec": {
   "display_name": "myenv",
   "language": "python",
   "name": "python3"
  },
  "language_info": {
   "codemirror_mode": {
    "name": "ipython",
    "version": 3
   },
   "file_extension": ".py",
   "mimetype": "text/x-python",
   "name": "python",
   "nbconvert_exporter": "python",
   "pygments_lexer": "ipython3",
   "version": "3.12.7"
  }
 },
 "nbformat": 4,
 "nbformat_minor": 2
}
